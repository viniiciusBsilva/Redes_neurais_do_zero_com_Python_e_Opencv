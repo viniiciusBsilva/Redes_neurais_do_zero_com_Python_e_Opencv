{
 "cells": [
  {
   "cell_type": "code",
   "execution_count": 1,
   "id": "58a3bc05-f0ed-489d-8bde-9faecea990ff",
   "metadata": {},
   "outputs": [],
   "source": [
    "import cv2\n",
    "import numpy as np\n",
    "from matplotlib import pyplot as plt\n",
    "%matplotlib inline"
   ]
  },
  {
   "cell_type": "code",
   "execution_count": 2,
   "id": "faba6840-310d-4ea8-8079-b73e30399529",
   "metadata": {},
   "outputs": [],
   "source": [
    "def sigmoid(x):\n",
    "    return 1/(1+np.exp(-x))\n",
    "\n",
    "\n",
    "def sigmoid_der(x):\n",
    "    return sigmoid(x)*(1-sigmoid(x))"
   ]
  },
  {
   "cell_type": "code",
   "execution_count": 7,
   "id": "f65159fb-fd57-419e-bb95-b3eaf85090c5",
   "metadata": {},
   "outputs": [
    {
     "name": "stdout",
     "output_type": "stream",
     "text": [
      "None\n"
     ]
    }
   ],
   "source": [
    "img = cv2.imread(\"imagem1.jpg\", cv2.IMREAD_GRAYSCALE)\n",
    "print(img)"
   ]
  },
  {
   "cell_type": "code",
   "execution_count": null,
   "id": "e15bb80f-e898-432a-a5e0-3c65d23b2f98",
   "metadata": {},
   "outputs": [],
   "source": [
    "img"
   ]
  },
  {
   "cell_type": "code",
   "execution_count": 3,
   "id": "ab40ab9d-05b5-42b6-b963-d5368bdee3bb",
   "metadata": {},
   "outputs": [
    {
     "ename": "TypeError",
     "evalue": "unsupported operand type(s) for /: 'NoneType' and 'int'",
     "output_type": "error",
     "traceback": [
      "\u001b[1;31m---------------------------------------------------------------------------\u001b[0m",
      "\u001b[1;31mTypeError\u001b[0m                                 Traceback (most recent call last)",
      "Cell \u001b[1;32mIn[3], line 4\u001b[0m\n\u001b[0;32m      1\u001b[0m \u001b[38;5;66;03m# 1. Input\u001b[39;00m\n\u001b[0;32m      2\u001b[0m \u001b[38;5;66;03m# 1.1 Image preprocessing\u001b[39;00m\n\u001b[0;32m      3\u001b[0m img \u001b[38;5;241m=\u001b[39m cv2\u001b[38;5;241m.\u001b[39mimread(\u001b[38;5;124m\"\u001b[39m\u001b[38;5;124mimagem1.jpg\u001b[39m\u001b[38;5;124m\"\u001b[39m, cv2\u001b[38;5;241m.\u001b[39mIMREAD_GRAYSCALE)\n\u001b[1;32m----> 4\u001b[0m img \u001b[38;5;241m=\u001b[39m \u001b[43mimg\u001b[49m\u001b[43m \u001b[49m\u001b[38;5;241;43m/\u001b[39;49m\u001b[43m \u001b[49m\u001b[38;5;241;43m255\u001b[39;49m\n\u001b[0;32m      5\u001b[0m img_flattened \u001b[38;5;241m=\u001b[39m img\u001b[38;5;241m.\u001b[39mflatten()\n\u001b[0;32m      7\u001b[0m img2 \u001b[38;5;241m=\u001b[39m cv2\u001b[38;5;241m.\u001b[39mimread(\u001b[38;5;124m\"\u001b[39m\u001b[38;5;124mimagem2.jpg\u001b[39m\u001b[38;5;124m\"\u001b[39m, cv2\u001b[38;5;241m.\u001b[39mIMREAD_GRAYSCALE)\n",
      "\u001b[1;31mTypeError\u001b[0m: unsupported operand type(s) for /: 'NoneType' and 'int'"
     ]
    }
   ],
   "source": [
    "# 1. Input\n",
    "# 1.1 Image preprocessing\n",
    "img = cv2.imread(\"imagem1.jpg\", cv2.IMREAD_GRAYSCALE)\n",
    "img = img / 255\n",
    "img_flattened = img.flatten()\n",
    "\n",
    "img2 = cv2.imread(\"imagem2.jpg\", cv2.IMREAD_GRAYSCALE)\n",
    "img2 = img2 / 255\n",
    "img2_flattened = img2.flatten()\n",
    "\n",
    "img2_flattened"
   ]
  },
  {
   "cell_type": "code",
   "execution_count": null,
   "id": "eb9d6370-7721-4bb9-a917-490dd452122e",
   "metadata": {},
   "outputs": [],
   "source": [
    "dataset = np.array([img_flattened,\n",
    "                    img2_flattened])\n",
    "\n",
    "labels = np.array([0, 1])\n",
    "\n",
    "print(\"Dataset\")\n",
    "print(dataset)"
   ]
  },
  {
   "cell_type": "code",
   "execution_count": null,
   "id": "3623f225-87e9-49fb-a30c-270a2aeaf174",
   "metadata": {},
   "outputs": [],
   "source": [
    "# 2. Weights\n",
    "weights = np.array([0.5, 0.5, 0.5, 0.5, 0.5, 0.5, 0.5, 0.5, 0.5])\n",
    "\n",
    "for i in range(100):\n",
    "    print(\"Round: \", i + 1)\n",
    "\n",
    "    temporary_weights = weights.copy()\n",
    "    for image, label in zip(dataset, labels):\n",
    "        convolution = sum(image * weights)\n",
    "        print(\"Image\")\n",
    "        print(image)\n",
    "\n",
    "        # 3. Activation function\n",
    "        result = sigmoid(convolution)\n",
    "\n",
    "        # 5. Error\n",
    "        error = result - label\n",
    "        print(\"Label\", label)\n",
    "        print(\"Error\", error)\n",
    "\n",
    "        # 6. Adjustment\n",
    "        adjustment = error * sigmoid_der(result)\n",
    "        print(\"Adjustment\", adjustment)\n",
    "\n",
    "        temporary_weights -= np.dot(image, adjustment)\n",
    "\n",
    "    weights = temporary_weights.copy()\n",
    "    print(\"Weights\", weights)\n",
    "    print()\n",
    "\n",
    "# # 4. Output\n",
    "# # Vertical 0\n",
    "# if result < 0.5:\n",
    "#     print(\"Vertical\")\n",
    "# # Horizontal 1\n",
    "# elif result > 0.5:\n",
    "#     print(\"Horizontal\")"
   ]
  }
 ],
 "metadata": {
  "kernelspec": {
   "display_name": "Python 3 (ipykernel)",
   "language": "python",
   "name": "python3"
  },
  "language_info": {
   "codemirror_mode": {
    "name": "ipython",
    "version": 3
   },
   "file_extension": ".py",
   "mimetype": "text/x-python",
   "name": "python",
   "nbconvert_exporter": "python",
   "pygments_lexer": "ipython3",
   "version": "3.9.16"
  }
 },
 "nbformat": 4,
 "nbformat_minor": 5
}
