{
 "cells": [
  {
   "cell_type": "code",
   "execution_count": 1,
   "id": "58a3bc05-f0ed-489d-8bde-9faecea990ff",
   "metadata": {},
   "outputs": [],
   "source": [
    "import cv2\n",
    "import numpy as np\n",
    "from matplotlib import pyplot as plt\n",
    "%matplotlib inline"
   ]
  },
  {
   "cell_type": "code",
   "execution_count": 2,
   "id": "faba6840-310d-4ea8-8079-b73e30399529",
   "metadata": {},
   "outputs": [],
   "source": [
    "def sigmoid(x):\n",
    "    return 1/(1+np.exp(-x))\n",
    "\n",
    "\n",
    "def sigmoid_der(x):\n",
    "    return sigmoid(x)*(1-sigmoid(x))"
   ]
  },
  {
   "cell_type": "code",
   "execution_count": 5,
   "id": "ab40ab9d-05b5-42b6-b963-d5368bdee3bb",
   "metadata": {},
   "outputs": [],
   "source": [
    "# 1. Input\n",
    "# 1.1 Image preprocessing\n",
    "img = cv2.imread(\"vertical.png\", cv2.IMREAD_GRAYSCALE)\n",
    "img = img / 255\n",
    "img_flattened = img.flatten()\n",
    "\n",
    "img2 = cv2.imread(\"horizontal.png\", cv2.IMREAD_GRAYSCALE)\n",
    "img2 = img2 / 255\n",
    "img2_flattened = img.flatten()"
   ]
  },
  {
   "cell_type": "code",
   "execution_count": 6,
   "id": "eb9d6370-7721-4bb9-a917-490dd452122e",
   "metadata": {},
   "outputs": [
    {
     "name": "stdout",
     "output_type": "stream",
     "text": [
      "Dataset\n",
      "[[0. 1. 0. 0. 1. 0. 0. 1. 0.]\n",
      " [0. 1. 0. 0. 1. 0. 0. 1. 0.]]\n"
     ]
    }
   ],
   "source": [
    "dataset = np.array([img_flattened,\n",
    "                    img2_flattened])\n",
    "\n",
    "labels = np.array([0, 1])\n",
    "\n",
    "print(\"Dataset\")\n",
    "print(dataset)"
   ]
  },
  {
   "cell_type": "code",
   "execution_count": 7,
   "id": "3623f225-87e9-49fb-a30c-270a2aeaf174",
   "metadata": {},
   "outputs": [
    {
     "name": "stdout",
     "output_type": "stream",
     "text": [
      "Round:  1\n",
      "Image\n",
      "[0. 1. 0. 0. 1. 0. 0. 1. 0.]\n",
      "Label 0\n",
      "Error 0.8175744761936437\n",
      "Adjustment 0.17371175481161166\n",
      "Image\n",
      "[0. 1. 0. 0. 1. 0. 0. 1. 0.]\n",
      "Label 1\n",
      "Error -0.18242552380635635\n",
      "Adjustment -0.03876033167077969\n",
      "Weights [0.5        0.36504858 0.5        0.5        0.36504858 0.5\n",
      " 0.5        0.36504858 0.5       ]\n",
      "\n"
     ]
    }
   ],
   "source": [
    "# 2. Weights\n",
    "weights = np.array([0.5, 0.5, 0.5, 0.5, 0.5, 0.5, 0.5, 0.5, 0.5])\n",
    "\n",
    "for i in range(1):\n",
    "    print(\"Round: \", i + 1)\n",
    "\n",
    "    temporary_weights = weights.copy()\n",
    "    for image, label in zip(dataset, labels):\n",
    "        convolution = sum(image * weights)\n",
    "        print(\"Image\")\n",
    "        print(image)\n",
    "\n",
    "        # 3. Activation function\n",
    "        result = sigmoid(convolution)\n",
    "\n",
    "        # 5. Error\n",
    "        error = result - label\n",
    "        print(\"Label\", label)\n",
    "        print(\"Error\", error)\n",
    "\n",
    "        # 6. Adjustment\n",
    "        adjustment = error * sigmoid_der(result)\n",
    "        print(\"Adjustment\", adjustment)\n",
    "\n",
    "        temporary_weights -= np.dot(image, adjustment)\n",
    "\n",
    "    weights = temporary_weights.copy()\n",
    "    print(\"Weights\", weights)\n",
    "    print()\n",
    "\n",
    "# # 4. Output\n",
    "# # Vertical 0\n",
    "# if result < 0.5:\n",
    "#     print(\"Vertical\")\n",
    "# # Horizontal 1\n",
    "# elif result > 0.5:\n",
    "#     print(\"Horizontal\")"
   ]
  }
 ],
 "metadata": {
  "kernelspec": {
   "display_name": "Python 3 (ipykernel)",
   "language": "python",
   "name": "python3"
  },
  "language_info": {
   "codemirror_mode": {
    "name": "ipython",
    "version": 3
   },
   "file_extension": ".py",
   "mimetype": "text/x-python",
   "name": "python",
   "nbconvert_exporter": "python",
   "pygments_lexer": "ipython3",
   "version": "3.9.16"
  }
 },
 "nbformat": 4,
 "nbformat_minor": 5
}
