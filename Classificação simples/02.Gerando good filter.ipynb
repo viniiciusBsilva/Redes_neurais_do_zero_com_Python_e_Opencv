{
 "cells": [
  {
   "cell_type": "code",
   "execution_count": 1,
   "id": "1c29c351-e71c-4950-a2a8-4bc587119f19",
   "metadata": {},
   "outputs": [],
   "source": [
    "import cv2\n",
    "import numpy as np"
   ]
  },
  {
   "cell_type": "code",
   "execution_count": 3,
   "id": "b647ae0a-c390-411a-b1de-d02f22b711d7",
   "metadata": {},
   "outputs": [],
   "source": [
    "def preprocess_img(path_img):\n",
    "    img = cv2.imread(path_img, cv2.IMREAD_GRAYSCALE)\n",
    "\n",
    "    # Simplify the image\n",
    "    img = img / 255\n",
    "\n",
    "    # Flatten the image\n",
    "    flattened_image = img.flatten()\n",
    "    return flattened_image\n",
    "\n",
    "\n",
    "flattened_vertical = preprocess_img(\"imagens/imagem1.jpg\")\n",
    "flattened_horizontal = preprocess_img(\"imagens/imagem2.jpg\")"
   ]
  },
  {
   "cell_type": "code",
   "execution_count": 4,
   "id": "f097e566-fed5-4dd5-853e-7aaab7aaf38b",
   "metadata": {},
   "outputs": [
    {
     "name": "stdout",
     "output_type": "stream",
     "text": [
      "Good filter\n",
      "Filter:  [ 1  1  0 -1  1  1 -1  1 -1]\n",
      "0.0\n",
      "0.00392156862745098\n",
      "Attempts:  1\n"
     ]
    }
   ],
   "source": [
    "count = 0\n",
    "while True:\n",
    "    count += 1\n",
    "    filter_images = np.random.randint(-1, 2, size=9)\n",
    "\n",
    "    convolution_vertical = sum(flattened_vertical * filter_images)\n",
    "    convolution_horizontal = sum(flattened_horizontal * filter_images)\n",
    "\n",
    "    if convolution_horizontal != convolution_vertical:\n",
    "        print(\"Good filter\")\n",
    "        print(\"Filter: \", filter_images)\n",
    "        print(convolution_vertical)\n",
    "        print(convolution_horizontal)\n",
    "        print(\"Attempts: \", count)\n",
    "        break\n",
    "\n",
    "\n",
    "#cv2.imshow(\"Image\", cv2.resize(img, (500, 500), interpolation=0))\n",
    "#cv2.waitKey(0)"
   ]
  }
 ],
 "metadata": {
  "kernelspec": {
   "display_name": "Python 3 (ipykernel)",
   "language": "python",
   "name": "python3"
  },
  "language_info": {
   "codemirror_mode": {
    "name": "ipython",
    "version": 3
   },
   "file_extension": ".py",
   "mimetype": "text/x-python",
   "name": "python",
   "nbconvert_exporter": "python",
   "pygments_lexer": "ipython3",
   "version": "3.9.16"
  }
 },
 "nbformat": 4,
 "nbformat_minor": 5
}
