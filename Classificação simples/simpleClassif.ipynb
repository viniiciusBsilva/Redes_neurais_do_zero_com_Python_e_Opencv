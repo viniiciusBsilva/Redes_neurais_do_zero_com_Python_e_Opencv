{
 "cells": [
  {
   "cell_type": "code",
   "execution_count": 1,
   "id": "c3a1b873-9998-43cc-adeb-ce882c274ecd",
   "metadata": {},
   "outputs": [],
   "source": [
    "import cv2\n",
    "import numpy as np\n",
    "from matplotlib import pyplot as plt\n",
    "%matplotlib inline"
   ]
  },
  {
   "cell_type": "code",
   "execution_count": 11,
   "id": "81226e5d-53b2-4691-b30a-0fb1f340c26b",
   "metadata": {},
   "outputs": [],
   "source": [
    "def classify_image(img):\n",
    "\n",
    "    # 1) Simplify image by dividing 255\n",
    "    img = img / 255\n",
    "\n",
    "    # 2) Flatten the image\n",
    "    img_flattened = img.flatten()\n",
    "\n",
    "    # 3) Filter\n",
    "    filter = [ 1,  1,  0, -1,  1,  1, -1,  1, -1]\n",
    "\n",
    "    # 4) Multiply filter * flattened image\n",
    "    convolution = img_flattened * filter\n",
    "\n",
    "    # 5) Sum\n",
    "    sum_convolution = sum(convolution)\n",
    "\n",
    "    # 6) Condition\n",
    "    if sum_convolution == 1:\n",
    "        print(\"Horizontal\")\n",
    "    else:\n",
    "        print(\"Vertical\")"
   ]
  },
  {
   "cell_type": "code",
   "execution_count": 13,
   "id": "df5bd6cb-bf0f-46dc-9a17-ec9927bd70b7",
   "metadata": {},
   "outputs": [
    {
     "name": "stdout",
     "output_type": "stream",
     "text": [
      "Vertical\n"
     ]
    }
   ],
   "source": [
    "img1 = cv2.imread(\"imagens/imagem1.jpg\", cv2.IMREAD_GRAYSCALE)\n",
    "img2 = cv2.imread(\"imagens/imagem2.jpg\", cv2.IMREAD_GRAYSCALE)\n",
    "\n",
    "result = classify_image(img2)\n",
    "result"
   ]
  }
 ],
 "metadata": {
  "kernelspec": {
   "display_name": "Python 3 (ipykernel)",
   "language": "python",
   "name": "python3"
  },
  "language_info": {
   "codemirror_mode": {
    "name": "ipython",
    "version": 3
   },
   "file_extension": ".py",
   "mimetype": "text/x-python",
   "name": "python",
   "nbconvert_exporter": "python",
   "pygments_lexer": "ipython3",
   "version": "3.9.16"
  }
 },
 "nbformat": 4,
 "nbformat_minor": 5
}
