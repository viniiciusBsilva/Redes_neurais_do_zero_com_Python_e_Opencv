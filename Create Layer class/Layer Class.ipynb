{
 "cells": [
  {
   "cell_type": "code",
   "execution_count": 1,
   "id": "25abc4e6-bb54-4edc-8a6d-b5dd65db09f1",
   "metadata": {},
   "outputs": [],
   "source": [
    "import numpy as np\n",
    "import cv2"
   ]
  },
  {
   "cell_type": "code",
   "execution_count": 3,
   "id": "3749e1d1-3661-4a2a-a6f2-cb70ea605f39",
   "metadata": {},
   "outputs": [],
   "source": [
    "# 1. Input\n",
    "# 1.1 Image preprocessing\n",
    "img = cv2.imread(\"vertical.png\", cv2.IMREAD_GRAYSCALE)\n",
    "img = img / 255\n",
    "img_flattened = img.flatten()\n",
    "\n",
    "img2 = cv2.imread(\"horizontal.png\", cv2.IMREAD_GRAYSCALE)\n",
    "img2 = img2 / 255\n",
    "img2_flattened = img2.flatten()"
   ]
  },
  {
   "cell_type": "code",
   "execution_count": 4,
   "id": "7705439f-c1c7-4bdc-9bb5-386d3a2d2f5d",
   "metadata": {},
   "outputs": [],
   "source": [
    "def sigmoid(x):\n",
    "    return 1/(1+np.exp(-x))\n",
    "\n",
    "\n",
    "def sigmoid_der(x):\n",
    "    return sigmoid(x)*(1-sigmoid(x))"
   ]
  },
  {
   "cell_type": "code",
   "execution_count": 5,
   "id": "11a719b0-91a0-4b30-a837-025aa030eddf",
   "metadata": {},
   "outputs": [],
   "source": [
    "class Layer:\n",
    "    def __init__(self, input_size, output_size):\n",
    "        print(\"Initializing layer\")\n",
    "        self.weights = np.random.rand(input_size, output_size)\n",
    "        print(\"Weights\")\n",
    "        print(self.weights)\n",
    "\n",
    "    def feed_forward(self, input):\n",
    "        weighted_sum = np.dot(input, self.weights)\n",
    "        output = sigmoid(weighted_sum)\n",
    "        return output\n",
    "\n",
    "    def back_propagation(self, input, output, labels):\n",
    "        error = output - labels\n",
    "        adjustment = error * sigmoid_der(output)\n",
    "        weights_update = np.dot(input.T, adjustment)\n",
    "        self.weights -= weights_update"
   ]
  },
  {
   "cell_type": "code",
   "execution_count": 6,
   "id": "3289ea1e-7ec0-42aa-ada0-6c21817ad645",
   "metadata": {},
   "outputs": [
    {
     "name": "stdout",
     "output_type": "stream",
     "text": [
      "Input\n",
      "[[0. 1. 0. 0. 1. 0. 0. 1. 0.]\n",
      " [0. 0. 0. 1. 1. 1. 0. 0. 0.]]\n",
      "Labels\n",
      "[[0]\n",
      " [1]]\n",
      "Initializing layer\n",
      "Weights\n",
      "[[0.79689049]\n",
      " [0.73544807]\n",
      " [0.55526016]\n",
      " [0.29514529]\n",
      " [0.86472032]\n",
      " [0.54192557]\n",
      " [0.89388079]\n",
      " [0.96186816]\n",
      " [0.45883751]]\n",
      "Final weights\n",
      "[[0.79689049]\n",
      " [0.54696772]\n",
      " [0.55526016]\n",
      " [0.3275537 ]\n",
      " [0.70864838]\n",
      " [0.57433398]\n",
      " [0.89388079]\n",
      " [0.77338781]\n",
      " [0.45883751]]\n",
      "Output\n",
      "[[0.92837799]\n",
      " [0.84576853]]\n"
     ]
    }
   ],
   "source": [
    "# Input\n",
    "dataset = np.array([img_flattened,\n",
    "                    img2_flattened])\n",
    "labels = np.array([[0, 1]]).T\n",
    "print(\"Input\")\n",
    "print(dataset)\n",
    "\n",
    "print(\"Labels\")\n",
    "print(labels)\n",
    "\n",
    "# Output layer\n",
    "output_layer = Layer(9, 1)\n",
    "\n",
    "# Train\n",
    "for i in range(1):\n",
    "    output = output_layer.feed_forward(dataset)\n",
    "    output_layer.back_propagation(dataset, output, labels)\n",
    "\n",
    "print(\"Final weights\")\n",
    "print(output_layer.weights)\n",
    "\n",
    "print(\"Output\")\n",
    "print(output)"
   ]
  }
 ],
 "metadata": {
  "kernelspec": {
   "display_name": "Python 3 (ipykernel)",
   "language": "python",
   "name": "python3"
  },
  "language_info": {
   "codemirror_mode": {
    "name": "ipython",
    "version": 3
   },
   "file_extension": ".py",
   "mimetype": "text/x-python",
   "name": "python",
   "nbconvert_exporter": "python",
   "pygments_lexer": "ipython3",
   "version": "3.9.16"
  }
 },
 "nbformat": 4,
 "nbformat_minor": 5
}
