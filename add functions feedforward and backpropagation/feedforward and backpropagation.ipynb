{
 "cells": [
  {
   "cell_type": "code",
   "execution_count": 8,
   "id": "d1b76ffc-584b-4e6f-9be3-d6999bcdd193",
   "metadata": {},
   "outputs": [],
   "source": [
    "import cv2\n",
    "import numpy as np\n",
    "from matplotlib import pyplot as plt\n",
    "%matplotlib inline"
   ]
  },
  {
   "cell_type": "code",
   "execution_count": 9,
   "id": "28936e22-91b1-4215-bea6-36f28c70cc7d",
   "metadata": {},
   "outputs": [],
   "source": [
    "def sigmoid(x):\n",
    "    return 1/(1+np.exp(-x))\n",
    "\n",
    "#derivada da função sigmoid\n",
    "def sigmoid_der(x):\n",
    "    return sigmoid(x)*(1-sigmoid(x))"
   ]
  },
  {
   "cell_type": "code",
   "execution_count": 15,
   "id": "d86530ee-a501-4853-a25a-30081ba9334f",
   "metadata": {},
   "outputs": [],
   "source": [
    "def feed_forward(input, weights):\n",
    "    convolution = np.dot(input, weights)\n",
    "    result = sigmoid(convolution)\n",
    "    return result\n",
    "\n",
    "\n",
    "def back_propagation(result, label, input):\n",
    "    error = result - label\n",
    "    adjustment = error * sigmoid_der(result)\n",
    "    #input.T - matriz transposta\n",
    "    weights_update = np.dot(input.T, adjustment)\n",
    "    return weights_update"
   ]
  },
  {
   "cell_type": "code",
   "execution_count": 16,
   "id": "cccc5de4-bc31-4ff4-a69b-e81f4c6c577e",
   "metadata": {},
   "outputs": [
    {
     "name": "stdout",
     "output_type": "stream",
     "text": [
      "Dataset\n",
      "[[0. 1. 0. 0. 1. 0. 0. 1. 0.]\n",
      " [0. 0. 0. 1. 1. 1. 0. 0. 0.]]\n",
      "Round:  1\n",
      "Weights [0.5        0.32628825 0.5        0.53876033 0.36504858 0.53876033\n",
      " 0.5        0.32628825 0.5       ]\n",
      "\n"
     ]
    }
   ],
   "source": [
    "# 1. Input\n",
    "# 1.1 Image preprocessing\n",
    "img = cv2.imread(\"vertical.png\", cv2.IMREAD_GRAYSCALE)\n",
    "img = img / 255\n",
    "img_flattened = img.flatten()\n",
    "\n",
    "img2 = cv2.imread(\"horizontal.png\", cv2.IMREAD_GRAYSCALE)\n",
    "img2 = img2 / 255\n",
    "img2_flattened = img2.flatten()\n",
    "\n",
    "dataset = np.array([img_flattened,\n",
    "                    img2_flattened])\n",
    "\n",
    "labels = np.array([0, 1])\n",
    "\n",
    "print(\"Dataset\")\n",
    "print(dataset)\n",
    "\n",
    "# 2. Weights\n",
    "weights = np.array([0.5, 0.5, 0.5, 0.5, 0.5, 0.5, 0.5, 0.5, 0.5])\n",
    "\n",
    "for i in range(1):\n",
    "    print(\"Round: \", i + 1)\n",
    "\n",
    "    result = feed_forward(dataset, weights)\n",
    "    weights -= back_propagation(result, labels, dataset)\n",
    "\n",
    "\n",
    "print(\"Weights\", weights)\n",
    "print()\n",
    "\n",
    "# Input\n",
    "# [[0. 1. 0. 0. 1. 0. 0. 1. 0.]\n",
    "#  [0. 0. 0. 1. 1. 1. 0. 0. 0.]]\n",
    "\n",
    "# [0.8175744761936437 0.8175744761936437]"
   ]
  }
 ],
 "metadata": {
  "kernelspec": {
   "display_name": "Python 3 (ipykernel)",
   "language": "python",
   "name": "python3"
  },
  "language_info": {
   "codemirror_mode": {
    "name": "ipython",
    "version": 3
   },
   "file_extension": ".py",
   "mimetype": "text/x-python",
   "name": "python",
   "nbconvert_exporter": "python",
   "pygments_lexer": "ipython3",
   "version": "3.9.16"
  }
 },
 "nbformat": 4,
 "nbformat_minor": 5
}
